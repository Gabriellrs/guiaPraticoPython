{
  "nbformat": 4,
  "nbformat_minor": 0,
  "metadata": {
    "colab": {
      "provenance": [],
      "mount_file_id": "1CFYUyzfYpoXaSq4QP90Pgi6XQDfcjGc4",
      "authorship_tag": "ABX9TyOwarzUtMjW/5C1FWPktVhf",
      "include_colab_link": true
    },
    "kernelspec": {
      "name": "python3",
      "display_name": "Python 3"
    },
    "language_info": {
      "name": "python"
    }
  },
  "cells": [
    {
      "cell_type": "markdown",
      "metadata": {
        "id": "view-in-github",
        "colab_type": "text"
      },
      "source": [
        "<a href=\"https://colab.research.google.com/github/Gabriellrs/guiaPraticoPython/blob/main/UmGuiaPraticoSobrePython.ipynb\" target=\"_parent\"><img src=\"https://colab.research.google.com/assets/colab-badge.svg\" alt=\"Open In Colab\"/></a>"
      ]
    },
    {
      "cell_type": "markdown",
      "source": [
        "# Variáveis e Tipos de Dados"
      ],
      "metadata": {
        "id": "nTt2iNpHsTLN"
      }
    },
    {
      "cell_type": "markdown",
      "source": [
        "Python possui tipagem dinâmica e forte, isso significa que você não precisa declarar explicitamente o tipo da variável, mas se vc for fazer alguma operação ele vai acusar erro caso os tipos forem diferentes."
      ],
      "metadata": {
        "id": "4uMAlBa7tvFI"
      }
    },
    {
      "cell_type": "markdown",
      "source": [
        "## Tipo de Dados Simples"
      ],
      "metadata": {
        "id": "b4DNVtDZ6tV5"
      }
    },
    {
      "cell_type": "markdown",
      "source": [
        "### INT\n"
      ],
      "metadata": {
        "id": "6TFTvFlXmbDa"
      }
    },
    {
      "cell_type": "code",
      "source": [
        "x = 10\n",
        "y = -5"
      ],
      "metadata": {
        "id": "IC_0l_iesQCS"
      },
      "execution_count": null,
      "outputs": []
    },
    {
      "cell_type": "code",
      "source": [
        "a = 10 + 5  # Adição\n",
        "b = 10 - 5  # Subtração\n",
        "c = 10 * 5  # Multiplicação\n",
        "d = 10 // 3  # Divisão inteira\n",
        "e = 10 % 3  # Resto da divisão\n",
        "f = 10 ** 2  # Potência (10 ao quadrado)"
      ],
      "metadata": {
        "id": "vR8MlcermvXc"
      },
      "execution_count": null,
      "outputs": []
    },
    {
      "cell_type": "code",
      "source": [
        "abs(-5)  # Retorna o valor absoluto: 5\n",
        "pow(2, 3)  # Potência: 2^3 = 8\n",
        "\n",
        "x = 255\n",
        "\n",
        "print(bin(x))  # Converte para binário: '0b11111111'\n",
        "print(hex(x))  # Converte para hexadecimal: '0xff'"
      ],
      "metadata": {
        "colab": {
          "base_uri": "https://localhost:8080/"
        },
        "id": "OO_HLzXam02f",
        "outputId": "b46cc131-1586-4add-fbda-32ff99879207"
      },
      "execution_count": null,
      "outputs": [
        {
          "output_type": "stream",
          "name": "stdout",
          "text": [
            "0b11111111\n",
            "0xff\n"
          ]
        }
      ]
    },
    {
      "cell_type": "markdown",
      "source": [
        "### FLOAT"
      ],
      "metadata": {
        "id": "6c4Ln9zJnO-W"
      }
    },
    {
      "cell_type": "code",
      "source": [
        "pi = 3.14\n",
        "negativo = -2.71"
      ],
      "metadata": {
        "id": "vTwA1ifWnY_h"
      },
      "execution_count": null,
      "outputs": []
    },
    {
      "cell_type": "code",
      "source": [
        "x = 3.14 + 2.0  # Adição\n",
        "y = 3.14 - 2.0  # Subtração\n",
        "z = 3.14 / 2.0  # Divisão (sempre retorna float)"
      ],
      "metadata": {
        "id": "u1PdLF1jncF8"
      },
      "execution_count": null,
      "outputs": []
    },
    {
      "cell_type": "markdown",
      "source": [
        "### Bool"
      ],
      "metadata": {
        "id": "KnhTwS7SnfY-"
      }
    },
    {
      "cell_type": "code",
      "source": [
        "verdadeiro = True\n",
        "falso = False"
      ],
      "metadata": {
        "id": "-YlHPijwniKd"
      },
      "execution_count": null,
      "outputs": []
    },
    {
      "cell_type": "code",
      "source": [
        "print(True and False)  # False\n",
        "print(True or False)   # True\n",
        "print(not True)        # False"
      ],
      "metadata": {
        "colab": {
          "base_uri": "https://localhost:8080/"
        },
        "id": "IP1FoSyBnjQ6",
        "outputId": "ab85bed7-8c75-48b6-c09f-549394644e78"
      },
      "execution_count": null,
      "outputs": [
        {
          "output_type": "stream",
          "name": "stdout",
          "text": [
            "False\n",
            "True\n",
            "False\n"
          ]
        }
      ]
    },
    {
      "cell_type": "code",
      "source": [
        "# Pode ser usado diretamente com números ou strings\n",
        "\n",
        "print(bool(0))     # False (0 é considerado falso)\n",
        "print(bool(123))   # True (qualquer número não-zero é verdadeiro)\n",
        "print(bool(\"\"))    # False (string vazia é falsa)\n",
        "print(bool(\"abc\")) # True (string não vazia é verdadeira)"
      ],
      "metadata": {
        "id": "ORYDIROpn4N7"
      },
      "execution_count": null,
      "outputs": []
    },
    {
      "cell_type": "markdown",
      "source": [
        "### Strings"
      ],
      "metadata": {
        "id": "GdVrQ9M6oTpU"
      }
    },
    {
      "cell_type": "code",
      "source": [
        "texto = \"Olá, Python!\"\n",
        "\n",
        "# Concatenação\n",
        "saudacao = \"Olá\" + \", \" + \"Mundo!\"  # \"Olá, Mundo!\"\n",
        "\n",
        "# Repetição\n",
        "eco = \"Python \" * 3  # \"Python Python Python \"\n",
        "\n",
        "# Acesso por índice\n",
        "primeira_letra = texto[0]  # 'O'\n",
        "\n",
        "# Slice\n",
        "parte = texto[0:5]  # \"Olá,\""
      ],
      "metadata": {
        "id": "XNFdRtiWoWdh"
      },
      "execution_count": null,
      "outputs": []
    },
    {
      "cell_type": "code",
      "source": [
        "texto = \"python é incrível\"\n",
        "\n",
        "print(texto.upper())     # \"PYTHON É INCRÍVEL\"\n",
        "print(texto.capitalize())# \"Python é incrível\" coloca o primeiro caracter maiúsculo\n",
        "print(texto.replace(\"é\", \"é muito\"))  # \"python é muito incrível\"\n",
        "print(\"123\".isdigit())   # True\n",
        "print(\"abc\".isalpha())   # True\n"
      ],
      "metadata": {
        "id": "9mhhsUeCodxF"
      },
      "execution_count": null,
      "outputs": []
    },
    {
      "cell_type": "markdown",
      "source": [
        "Pode ser necessário realizar conversões entre os tipos, nesses casos utilizamos:"
      ],
      "metadata": {
        "id": "RJRbgPFkw2D5"
      }
    },
    {
      "cell_type": "code",
      "source": [
        "# int(var) converte em inteiro\n",
        "# float(var) converte em float\n",
        "# str(var) converte em string\n",
        "# bool(var) converte em booleano"
      ],
      "metadata": {
        "id": "5shwHaYBw_af"
      },
      "execution_count": null,
      "outputs": []
    },
    {
      "cell_type": "markdown",
      "source": [
        "## Tipos de Dados Compostos"
      ],
      "metadata": {
        "id": "1qEE5Ecqt3Nm"
      }
    },
    {
      "cell_type": "markdown",
      "source": [
        "### Listas"
      ],
      "metadata": {
        "id": "aIk5AMbyuCa9"
      }
    },
    {
      "cell_type": "markdown",
      "source": [
        "Uma lista é uma coleção ordenada de itens que podem ser de tipos diferentes. Pode ser alterada após a criação."
      ],
      "metadata": {
        "id": "KqLCfnTmvxaD"
      }
    },
    {
      "cell_type": "code",
      "source": [
        "numeros = [1, 2, 3, 4]\n",
        "misto = [1, \"Python\", True]"
      ],
      "metadata": {
        "id": "EDBo0NThtyyq"
      },
      "execution_count": null,
      "outputs": []
    },
    {
      "cell_type": "code",
      "source": [
        "# Acesso por índice\n",
        "primeiro = numeros[0]  # 1\n",
        "\n",
        "# Modificação\n",
        "numeros[1] = 20  # numeros = [1, 20, 3, 4]\n",
        "\n",
        "# Adicionar elementos\n",
        "numeros.append(5)       # [1, 20, 3, 4, 5]\n",
        "numeros.insert(2, 99)   # [1, 20, 99, 3, 4, 5]\n",
        "\n",
        "# Remover elementos\n",
        "numeros.pop()           # Remove o último: [1, 20, 99, 3, 4]\n",
        "numeros.remove(99)      # Remove o valor 99: [1, 20, 3, 4]"
      ],
      "metadata": {
        "id": "qVsLLl9VuKj3"
      },
      "execution_count": null,
      "outputs": []
    },
    {
      "cell_type": "code",
      "source": [
        "numeros = [3, 1, 4, 1, 5]\n",
        "print(len(numeros))      # 5 (tamanho da lista)\n",
        "print(sorted(numeros))   # [1, 1, 3, 4, 5]\n",
        "print(numeros.count(1))  # 2 (quantas vezes o número 1 aparece)\n",
        "numeros.reverse()        # Inverte a lista: [5, 1, 4, 1, 3]"
      ],
      "metadata": {
        "id": "_WHERGvuukdX"
      },
      "execution_count": null,
      "outputs": []
    },
    {
      "cell_type": "markdown",
      "source": [
        "### Tuplas"
      ],
      "metadata": {
        "id": "D6pWDBs5unPL"
      }
    },
    {
      "cell_type": "markdown",
      "source": [
        "Uma coleção imutável (não pode ser alterada), ordenada e que aceita elementos duplicados."
      ],
      "metadata": {
        "id": "ps3saU_ruqNN"
      }
    },
    {
      "cell_type": "code",
      "source": [
        "coordenadas = (10, 20)\n",
        "misto = (1, \"Python\", True)"
      ],
      "metadata": {
        "id": "eiTcmQoJupIC"
      },
      "execution_count": null,
      "outputs": []
    },
    {
      "cell_type": "code",
      "source": [
        "# Acesso por índice\n",
        "x = coordenadas[0]  # 10\n",
        "\n",
        "# Contar e encontrar elementos\n",
        "print(coordenadas.count(10))  # 1\n",
        "print(coordenadas.index(20))  # 1\n"
      ],
      "metadata": {
        "id": "28CPw1youx-2"
      },
      "execution_count": null,
      "outputs": []
    },
    {
      "cell_type": "markdown",
      "source": [
        "Diferença entre lista e tupla:\n",
        "\n",
        "**Lista:** mutável, útil para coleções que podem mudar.\n",
        "\n",
        "**Tupla:** imutável, geralmente usada para dados constantes ou retornos múltiplos de funções."
      ],
      "metadata": {
        "id": "1KSm5gT0vHV6"
      }
    },
    {
      "cell_type": "markdown",
      "source": [
        "### Conjuntos (set)"
      ],
      "metadata": {
        "id": "6o0G7LROvejh"
      }
    },
    {
      "cell_type": "markdown",
      "source": [
        "Uma coleção mutável, não ordenada, que não permite elementos duplicados."
      ],
      "metadata": {
        "id": "p6xK_1Vmvlhz"
      }
    },
    {
      "cell_type": "code",
      "source": [
        "frutas = {\"maçã\", \"banana\", \"laranja\"}"
      ],
      "metadata": {
        "id": "MBVT2usYvipx"
      },
      "execution_count": null,
      "outputs": []
    },
    {
      "cell_type": "code",
      "source": [
        "# Adicionar e remover elementos\n",
        "frutas.add(\"uva\")        # {\"maçã\", \"banana\", \"laranja\", \"uva\"}\n",
        "frutas.discard(\"banana\") # {\"maçã\", \"laranja\", \"uva\"}\n",
        "\n",
        "# Operações com conjuntos\n",
        "A = {1, 2, 3}\n",
        "B = {3, 4, 5}\n",
        "print(A | B)  # União: {1, 2, 3, 4, 5}\n",
        "print(A & B)  # Interseção: {3}\n",
        "print(A - B)  # Diferença: {1, 2}"
      ],
      "metadata": {
        "id": "EcsNaH9ywDOI"
      },
      "execution_count": null,
      "outputs": []
    },
    {
      "cell_type": "markdown",
      "source": [
        "### Dicionários"
      ],
      "metadata": {
        "id": "YmOcd4YHw46N"
      }
    },
    {
      "cell_type": "markdown",
      "source": [
        "Uma coleção mutável, que armazena pares chave-valor."
      ],
      "metadata": {
        "id": "JPzO5xlHxGRs"
      }
    },
    {
      "cell_type": "code",
      "source": [
        "aluno = {\n",
        "    \"nome\": \"Gabriel\",\n",
        "    \"idade\": 22,\n",
        "    \"matriculado\": True\n",
        "}"
      ],
      "metadata": {
        "id": "WF106U2ZxDo_"
      },
      "execution_count": null,
      "outputs": []
    },
    {
      "cell_type": "code",
      "source": [
        "# Acesso por chave\n",
        "aluno[\"nome\"]  # \"Gabriel\"\n",
        "\n",
        "# Adicionar ou modificar\n",
        "aluno[\"curso\"] = \"Ciência da Computação\"\n",
        "\n",
        "# Remover\n",
        "aluno.pop(\"idade\")  # Remove e retorna o valor da chave \"idade\"\n",
        "\n",
        "# Iterar\n",
        "for chave, valor in aluno.items():\n",
        "    print(chave, \"->\", valor)\n"
      ],
      "metadata": {
        "colab": {
          "base_uri": "https://localhost:8080/"
        },
        "id": "LwEauoecxQnw",
        "outputId": "65a0ce12-9a2e-4c18-b21b-9a0e60d911ae"
      },
      "execution_count": null,
      "outputs": [
        {
          "output_type": "stream",
          "name": "stdout",
          "text": [
            "nome -> Gabriel\n",
            "matriculado -> True\n",
            "curso -> Ciência da Computação\n"
          ]
        }
      ]
    },
    {
      "cell_type": "code",
      "source": [
        "print(aluno.keys())    # Retorna as chaves: dict_keys(['nome', 'matriculado', 'curso'])\n",
        "print(aluno.values())  # Retorna os valores: dict_values(['João', True, 'Ciência da Computação'])\n",
        "print(aluno.items())   # Retorna pares chave-valor"
      ],
      "metadata": {
        "id": "AiFI5brnx0NH"
      },
      "execution_count": null,
      "outputs": []
    },
    {
      "cell_type": "markdown",
      "source": [
        "# Estruturas de Controle"
      ],
      "metadata": {
        "id": "lmGHcZBgyr6s"
      }
    },
    {
      "cell_type": "markdown",
      "source": [
        "São usadas para manipular o fluxo do código com condicionais, loops."
      ],
      "metadata": {
        "id": "HDS96aXDyutx"
      }
    },
    {
      "cell_type": "markdown",
      "source": [
        "## Condicionais (if, elif, else)"
      ],
      "metadata": {
        "id": "6xD_pjs9y8q3"
      }
    },
    {
      "cell_type": "code",
      "source": [
        "energia = 75\n",
        "\n",
        "if energia > 80:\n",
        "    print(\"Energia cheia! Você pode enfrentar o chefão!\")\n",
        "elif 50 <= energia <= 80:\n",
        "    print(\"Energia suficiente para explorar mais.\")\n",
        "else:\n",
        "    print(\"Energia baixa, procure um ponto de cura.\")\n"
      ],
      "metadata": {
        "id": "qtpMDXvXy2-I"
      },
      "execution_count": null,
      "outputs": []
    },
    {
      "cell_type": "markdown",
      "source": [
        "Condições podem usar operadores como **and**, **or** e **not**."
      ],
      "metadata": {
        "id": "ld9D6pnLzLjq"
      }
    },
    {
      "cell_type": "code",
      "source": [
        "if energia > 50 and energia < 80:\n",
        "    print(\"Média de energia.\")"
      ],
      "metadata": {
        "id": "JNdAvIVlzMfS"
      },
      "execution_count": null,
      "outputs": []
    },
    {
      "cell_type": "markdown",
      "source": [
        "### Loops"
      ],
      "metadata": {
        "id": "9k-MuGpdzS-5"
      }
    },
    {
      "cell_type": "markdown",
      "source": [
        "**For**: Itera sobre sequências como listas, strings ou intervalos."
      ],
      "metadata": {
        "id": "pzjywQ4lzYO7"
      }
    },
    {
      "cell_type": "code",
      "source": [
        "inventario = [\"espada\", \"poção rara\", \"escudo\", \"poção rara\"]\n",
        "raros = 0\n",
        "\n",
        "for item in inventario:\n",
        "    if item == \"poção rara\":\n",
        "        raros += 1\n",
        "\n",
        "print(f\"Você possui {raros} itens raros.\")  # Saída: Você possui 2 itens raros.\n"
      ],
      "metadata": {
        "id": "vFcM0Ngp0JN6"
      },
      "execution_count": null,
      "outputs": []
    },
    {
      "cell_type": "markdown",
      "source": [
        "**While**: Repete enquanto a condição for verdadeira."
      ],
      "metadata": {
        "id": "tJiceRND0V7N"
      }
    },
    {
      "cell_type": "code",
      "source": [
        "energia = 40\n",
        "\n",
        "while energia < 100:\n",
        "    print(f\"Energia atual: {energia}\")\n",
        "    energia += 10  # Recupera 10 por iteração\n",
        "\n",
        "print(f\"Energia atual: {energia}\")"
      ],
      "metadata": {
        "colab": {
          "base_uri": "https://localhost:8080/"
        },
        "id": "9M_tovmH0YNl",
        "outputId": "834790c6-d7e9-4447-d475-3c760fe65507"
      },
      "execution_count": null,
      "outputs": [
        {
          "output_type": "stream",
          "name": "stdout",
          "text": [
            "Energia atual: 40\n",
            "Energia atual: 50\n",
            "Energia atual: 60\n",
            "Energia atual: 70\n",
            "Energia atual: 80\n",
            "Energia atual: 90\n",
            "Energia atual: 100\n"
          ]
        }
      ]
    },
    {
      "cell_type": "markdown",
      "source": [
        "**Break**: Interrompe o loop."
      ],
      "metadata": {
        "id": "PkqNEwJ03AEt"
      }
    },
    {
      "cell_type": "code",
      "source": [
        "mapa = [\"grama\", \"poção\", \"caverna\", \"item lendário\", \"rio\"]\n",
        "\n",
        "for lugar in mapa:\n",
        "    print(f\"Explorando: {lugar}\")\n",
        "    if lugar == \"item lendário\":\n",
        "        print(\"Você encontrou o item lendário! Parabéns!\")\n",
        "        break\n"
      ],
      "metadata": {
        "colab": {
          "base_uri": "https://localhost:8080/"
        },
        "id": "ExX_1z5K3B6f",
        "outputId": "85296233-66c8-4150-fdcd-47827641a126"
      },
      "execution_count": null,
      "outputs": [
        {
          "output_type": "stream",
          "name": "stdout",
          "text": [
            "Explorando: grama\n",
            "Explorando: poção\n",
            "Explorando: caverna\n",
            "Explorando: item lendário\n",
            "Você encontrou o item lendário! Parabéns!\n"
          ]
        }
      ]
    },
    {
      "cell_type": "markdown",
      "source": [
        "**Continue**: Pula para a próxima iteração."
      ],
      "metadata": {
        "id": "NYQ71f_O3K9K"
      }
    },
    {
      "cell_type": "code",
      "source": [
        "mapa = [\"caverna\", \"lava\", \"floresta\", \"deserto\"]\n",
        "\n",
        "for lugar in mapa:\n",
        "    if lugar == \"lava\":\n",
        "        print(\"Zona perigosa, pulando...\")\n",
        "        continue\n",
        "    print(f\"Você explorou: {lugar}\")\n"
      ],
      "metadata": {
        "colab": {
          "base_uri": "https://localhost:8080/"
        },
        "id": "owVrUjV93MMw",
        "outputId": "be272210-59e2-4f9a-bf26-3e275e46056e"
      },
      "execution_count": null,
      "outputs": [
        {
          "output_type": "stream",
          "name": "stdout",
          "text": [
            "Você explorou: caverna\n",
            "Zona perigosa, pulando...\n",
            "Você explorou: floresta\n",
            "Você explorou: deserto\n"
          ]
        }
      ]
    },
    {
      "cell_type": "markdown",
      "source": [
        "**range()**: Gera uma sequência numérica."
      ],
      "metadata": {
        "id": "ZtHyCQ3s3VW_"
      }
    },
    {
      "cell_type": "code",
      "source": [
        "for i in range(1, 11):\n",
        "    print(i)"
      ],
      "metadata": {
        "colab": {
          "base_uri": "https://localhost:8080/"
        },
        "id": "Mreh17IQ3bMh",
        "outputId": "608cb963-fcc2-4c72-b0eb-4e792702e68d"
      },
      "execution_count": null,
      "outputs": [
        {
          "output_type": "stream",
          "name": "stdout",
          "text": [
            "1\n",
            "2\n",
            "3\n",
            "4\n",
            "5\n",
            "6\n",
            "7\n",
            "8\n",
            "9\n",
            "10\n"
          ]
        }
      ]
    },
    {
      "cell_type": "markdown",
      "source": [
        "**enumerate()**: Itera com índice e valor."
      ],
      "metadata": {
        "id": "Cm1RmQb73mpj"
      }
    },
    {
      "cell_type": "code",
      "source": [
        "jogadores = [\"Ana\", \"Carlos\", \"João\"]\n",
        "\n",
        "for i, nome in enumerate(jogadores):\n",
        "    print(f\"Jogador {i+1}: {nome}\")\n",
        "\n",
        "# i assume o papel de indice\n",
        "# nome assume o valor do vetor jogadores"
      ],
      "metadata": {
        "colab": {
          "base_uri": "https://localhost:8080/"
        },
        "id": "cXZrdiah3qRJ",
        "outputId": "bd393ac2-0a14-401d-dd96-77cfec37aca3"
      },
      "execution_count": null,
      "outputs": [
        {
          "output_type": "stream",
          "name": "stdout",
          "text": [
            "Jogador 1: Ana\n",
            "Jogador 2: Carlos\n",
            "Jogador 3: João\n"
          ]
        }
      ]
    },
    {
      "cell_type": "markdown",
      "source": [
        "**zip()**: Combina duas listas."
      ],
      "metadata": {
        "id": "ke5JvotY4FM_"
      }
    },
    {
      "cell_type": "code",
      "source": [
        "herois = [\"Link\", \"Geralt\", \"Lara\"]\n",
        "armas = [\"Espada\", \"Espadas duplas\", \"Arco e flecha\"]\n",
        "\n",
        "for heroi, arma in zip(herois, armas):\n",
        "    print(f\"{heroi} usa {arma}.\")\n"
      ],
      "metadata": {
        "colab": {
          "base_uri": "https://localhost:8080/"
        },
        "id": "0q_I1DYj4GTl",
        "outputId": "31d41794-d8f3-4037-d063-00a163923096"
      },
      "execution_count": null,
      "outputs": [
        {
          "output_type": "stream",
          "name": "stdout",
          "text": [
            "Link usa Espada.\n",
            "Geralt usa Espadas duplas.\n",
            "Lara usa Arco e flecha.\n"
          ]
        }
      ]
    },
    {
      "cell_type": "markdown",
      "source": [
        "**Match-case** a alternativa ao switch-case"
      ],
      "metadata": {
        "id": "qJUzmwpI4c6j"
      }
    },
    {
      "cell_type": "code",
      "source": [
        "comando = \"atacar\"\n",
        "\n",
        "match comando:\n",
        "    case \"atacar\":\n",
        "        print(\"Você atacou o inimigo!\")\n",
        "    case \"defender\":\n",
        "        print(\"Você se defendeu contra o ataque!\")\n",
        "    case \"curar\":\n",
        "        print(\"Você usou uma poção de cura.\")\n",
        "    case _:\n",
        "        print(\"Comando desconhecido.\")\n"
      ],
      "metadata": {
        "colab": {
          "base_uri": "https://localhost:8080/"
        },
        "id": "StcDXejy4ikW",
        "outputId": "152e6a84-193a-4da0-f444-130b7b2c0d72"
      },
      "execution_count": null,
      "outputs": [
        {
          "output_type": "stream",
          "name": "stdout",
          "text": [
            "Você atacou o inimigo!\n"
          ]
        }
      ]
    },
    {
      "cell_type": "markdown",
      "source": [
        "**Aninhamento de loops** (Gerar um mapa 2D de uma dungeon 3x4.)"
      ],
      "metadata": {
        "id": "7oZooGOi42KJ"
      }
    },
    {
      "cell_type": "code",
      "source": [
        "linhas = 3\n",
        "colunas = 4\n",
        "\n",
        "for i in range(linhas):\n",
        "    for j in range(colunas):\n",
        "        print(f\"Posição: ({i}, {j})\", end=\" \")\n",
        "    print()  # Quebra de linha\n"
      ],
      "metadata": {
        "colab": {
          "base_uri": "https://localhost:8080/"
        },
        "id": "bFgZWEJL43j2",
        "outputId": "70e7ef18-35e6-4e4c-d0c4-a28fe988403a"
      },
      "execution_count": null,
      "outputs": [
        {
          "output_type": "stream",
          "name": "stdout",
          "text": [
            "Posição: (0, 0) Posição: (0, 1) Posição: (0, 2) Posição: (0, 3) \n",
            "Posição: (1, 0) Posição: (1, 1) Posição: (1, 2) Posição: (1, 3) \n",
            "Posição: (2, 0) Posição: (2, 1) Posição: (2, 2) Posição: (2, 3) \n"
          ]
        }
      ]
    },
    {
      "cell_type": "markdown",
      "source": [
        "Por padrão, toda vez que você usa print() em Python, ele adiciona uma quebra de linha ao final da saída. Isso ocorre porque o argumento end do print() tem um valor padrão de \\n (nova linha)."
      ],
      "metadata": {
        "id": "l7V5r6b-51k4"
      }
    },
    {
      "cell_type": "markdown",
      "source": [
        "Ao usar end=\" \", você altera o comportamento padrão para não quebrar a linha e, em vez disso, adicionar o que você especificar no end."
      ],
      "metadata": {
        "id": "xA957qQ452kv"
      }
    },
    {
      "cell_type": "code",
      "source": [
        "import time\n",
        "\n",
        "print(\"Carregando\", end=\"\")\n",
        "for _ in range(5):\n",
        "    print(\".\", end=\"\", flush=True)\n",
        "    time.sleep(0.7)  # Aguarda 0.7 segundos\n"
      ],
      "metadata": {
        "colab": {
          "base_uri": "https://localhost:8080/"
        },
        "id": "ixQQKyDz54yi",
        "outputId": "02f17c64-ff97-4f0c-9fdd-aa129e3201df"
      },
      "execution_count": null,
      "outputs": [
        {
          "output_type": "stream",
          "name": "stdout",
          "text": [
            "Carregando....."
          ]
        }
      ]
    },
    {
      "cell_type": "markdown",
      "source": [
        "# Funções"
      ],
      "metadata": {
        "id": "yIRaIsDh7rAr"
      }
    },
    {
      "cell_type": "markdown",
      "source": [
        "Funções são blocos reutilizáveis de código que ajudam a organizar, modularizar e simplificar programas."
      ],
      "metadata": {
        "id": "PD6fpCM07u-L"
      }
    },
    {
      "cell_type": "code",
      "source": [
        "# A sintaxe padrão de uma função em py é\n",
        "\n",
        "def nome_da_funcao(parametros_opcionais):\n",
        "    # Corpo da função\n",
        "    return valor_opcional"
      ],
      "metadata": {
        "id": "BKXYVMKn7xo-"
      },
      "execution_count": null,
      "outputs": []
    },
    {
      "cell_type": "markdown",
      "source": [
        "**Parâmetros posicionais:** Os argumentos são passados na ordem.\n",
        "\n",
        "**Parâmetros nomeados:** Argumentos são especificados pelo nome.\n",
        "\n",
        "**Parâmetros com valor padrão:** São opcionais se não fornecidos."
      ],
      "metadata": {
        "id": "sRI-2fNs8M-A"
      }
    },
    {
      "cell_type": "code",
      "source": [
        "def criar_personagem(nome, classe=\"Guerreiro\", nivel=1):\n",
        "    print(f\"Nome: {nome}, Classe: {classe}, Nível: {nivel}\")\n",
        "\n",
        "# Chamando com diferentes combinações\n",
        "criar_personagem(\"Arthur\")  # Classe padrão\n",
        "criar_personagem(\"Merlin\", classe=\"Mago\", nivel=10)"
      ],
      "metadata": {
        "colab": {
          "base_uri": "https://localhost:8080/"
        },
        "id": "Q8Y_wtI58OnP",
        "outputId": "182b51f7-c902-4941-ec15-3b94032cf9d5"
      },
      "execution_count": null,
      "outputs": [
        {
          "output_type": "stream",
          "name": "stdout",
          "text": [
            "Nome: Arthur, Classe: Guerreiro, Nível: 1\n",
            "Nome: Merlin, Classe: Mago, Nível: 10\n"
          ]
        }
      ]
    },
    {
      "cell_type": "markdown",
      "source": [
        "Python permite que uma função retorne múltiplos valores como uma tupla."
      ],
      "metadata": {
        "id": "VAG5_CpO8cH3"
      }
    },
    {
      "cell_type": "code",
      "source": [
        "def criar_armadura():\n",
        "    defesa = 50\n",
        "    resistencia_magica = 30\n",
        "    return defesa, resistencia_magica\n",
        "\n",
        "d, r = criar_armadura()\n",
        "print(f\"Defesa: {d}, Resistência Mágica: {r}\")\n",
        "\n",
        "# a função está retornando 2 valores, se eu armazenar esse retorno em uma só variavel ela se torna uma tupla:\n",
        "\n",
        "teste = criar_armadura()\n",
        "print(f\"retorno da função = {teste}\")"
      ],
      "metadata": {
        "colab": {
          "base_uri": "https://localhost:8080/"
        },
        "id": "ZYgjgbky8ffs",
        "outputId": "88d3e4b3-39d1-4f1f-dbb3-284181625950"
      },
      "execution_count": null,
      "outputs": [
        {
          "output_type": "stream",
          "name": "stdout",
          "text": [
            "Defesa: 50, Resistência Mágica: 30\n",
            "retorno da função = (50, 30)\n"
          ]
        }
      ]
    },
    {
      "cell_type": "markdown",
      "source": [
        "**Funções como objetos:** Podem ser atribuídas a variáveis ou passadas como argumentos.\n",
        "\n",
        "**Funções aninhadas:** Definidas dentro de outras funções."
      ],
      "metadata": {
        "id": "B62SU-bf8xTj"
      }
    },
    {
      "cell_type": "code",
      "source": [
        "def calcular_custo_missao(missao):\n",
        "    def custo_transporte():\n",
        "        return 50\n",
        "    def custo_equipamento():\n",
        "        return 100\n",
        "    return custo_transporte() + custo_equipamento()\n",
        "\n",
        "print(f\"Custo total da missão: {calcular_custo_missao('Aventura na Caverna')}\")"
      ],
      "metadata": {
        "colab": {
          "base_uri": "https://localhost:8080/"
        },
        "id": "XdB-8kii8z4s",
        "outputId": "cb8a5121-c28d-42a9-ce49-cfcc969dc9f4"
      },
      "execution_count": null,
      "outputs": [
        {
          "output_type": "stream",
          "name": "stdout",
          "text": [
            "Custo total da missão: 150\n"
          ]
        }
      ]
    },
    {
      "cell_type": "markdown",
      "source": [
        "Parâmetros Variáveis (args e kwargs)\n",
        "\n",
        "***args:** Coleta argumentos posicionais extras em uma tupla.\n",
        "\n",
        "** **kwargs:** Coleta argumentos nomeados extras em um dicionário."
      ],
      "metadata": {
        "id": "kaitaeW2-zb4"
      }
    },
    {
      "cell_type": "code",
      "source": [
        "def criar_lista_de_itens(*itens, **buffs):\n",
        "    print(\"Itens:\", itens)\n",
        "    print(\"Buffs:\", buffs)\n",
        "\n",
        "criar_lista_de_itens(\"Espada\", \"Escudo\", dano=10, defesa=5)\n"
      ],
      "metadata": {
        "colab": {
          "base_uri": "https://localhost:8080/"
        },
        "id": "_H7BC0MD_Jnl",
        "outputId": "5ff0e985-6d0c-4d42-fef5-768c52353557"
      },
      "execution_count": null,
      "outputs": [
        {
          "output_type": "stream",
          "name": "stdout",
          "text": [
            "Itens: ('Espada', 'Escudo')\n",
            "Buffs: {'dano': 10, 'defesa': 5}\n"
          ]
        }
      ]
    },
    {
      "cell_type": "markdown",
      "source": [
        "Caso não tenha ficado claro, os parâmetros variáveis permitem que você crie funções que aceitem uma quantidade flexível de argumentos. Isso é especialmente útil quando não sabemos exatamente quantos valores serão passados ou queremos trabalhar com opções extras."
      ],
      "metadata": {
        "id": "lR9NRWnxAU9l"
      }
    },
    {
      "cell_type": "code",
      "source": [
        "def somar(*numeros):\n",
        "    total = sum(numeros)  # Soma os números passados\n",
        "    print(f\"Números recebidos: {numeros}\")\n",
        "    return total\n",
        "\n",
        "print(f\"Soma: {somar(1, 2, 3, 4)}\")"
      ],
      "metadata": {
        "colab": {
          "base_uri": "https://localhost:8080/"
        },
        "id": "LKxRWspXAlqX",
        "outputId": "68e1b9a4-4dac-452a-b844-9d1f9d0539e9"
      },
      "execution_count": null,
      "outputs": [
        {
          "output_type": "stream",
          "name": "stdout",
          "text": [
            "Números recebidos: (1, 2, 3, 4)\n",
            "Soma: 10\n"
          ]
        }
      ]
    },
    {
      "cell_type": "code",
      "source": [
        "def apresentar_personagem(nome, **atributos):\n",
        "    print(f\"Personagem: {nome}\")\n",
        "    for atributo, valor in atributos.items():\n",
        "        print(f\"{atributo.capitalize()}: {valor}\")\n",
        "\n",
        "apresentar_personagem(\"Arthur\", classe=\"Guerreiro\", nivel=5, reino=\"Camelot\")\n"
      ],
      "metadata": {
        "colab": {
          "base_uri": "https://localhost:8080/"
        },
        "id": "TJMlFnLlA2C7",
        "outputId": "28966019-06f3-4107-cd90-df8c1e568a2a"
      },
      "execution_count": null,
      "outputs": [
        {
          "output_type": "stream",
          "name": "stdout",
          "text": [
            "Personagem: Arthur\n",
            "Classe: Guerreiro\n",
            "Nivel: 5\n",
            "Reino: Camelot\n"
          ]
        }
      ]
    },
    {
      "cell_type": "markdown",
      "source": [
        "Usando *args e **kwargs juntos\n",
        "Podemos combinar ambos na mesma função, mas precisa seguir esta ordem:\n",
        "\n",
        "Parâmetros posicionais regulares.\n",
        "\n",
        "*args (posicionais extras).\n",
        "\n",
        "Parâmetros nomeados regulares.\n",
        "\n",
        "**kwargs (nomeados extras)."
      ],
      "metadata": {
        "id": "RnIu7abiB8NL"
      }
    },
    {
      "cell_type": "code",
      "source": [
        "def criar_personagem(nome, *habilidades, classe=\"Guerreiro\", **atributos):\n",
        "    print(f\"Nome: {nome}\")\n",
        "    print(f\"Classe: {classe}\")\n",
        "    print(\"Habilidades:\", \", \".join(habilidades)) #join concatena os elementos de uma lista em uma única string, \", \" vai separar os elementos da lista por vírgula e uma espaço em branco.\n",
        "    for atributo, valor in atributos.items():\n",
        "        print(f\"{atributo.capitalize()}: {valor}\")\n",
        "\n",
        "criar_personagem(\n",
        "    \"Merlin\",\n",
        "    \"Magia\", \"Poções\",\n",
        "    classe=\"Mago\",\n",
        "    nivel=10,\n",
        "    reino=\"Albion\",\n",
        "    mana=100\n",
        ")\n"
      ],
      "metadata": {
        "colab": {
          "base_uri": "https://localhost:8080/"
        },
        "id": "TqpSPRVSCCC4",
        "outputId": "661622f8-7088-492b-b3c7-4c72b98d616d"
      },
      "execution_count": null,
      "outputs": [
        {
          "output_type": "stream",
          "name": "stdout",
          "text": [
            "Nome: Merlin\n",
            "Classe: Mago\n",
            "Habilidades: Magia, Poções\n",
            "Nivel: 10\n",
            "Reino: Albion\n",
            "Mana: 100\n"
          ]
        }
      ]
    },
    {
      "cell_type": "markdown",
      "source": [
        "Além de coletar argumentos, args e kwargs podem ser usados para desempacotar tuplas ou dicionários em uma chamada de função."
      ],
      "metadata": {
        "id": "ah4dbCKmo_yY"
      }
    },
    {
      "cell_type": "code",
      "source": [
        "def exibir_item(nome, tipo, dano, defesa):\n",
        "    print(f\"Item: {nome}, Tipo: {tipo}, Dano: {dano}, Defesa: {defesa}\")\n",
        "\n",
        "item = (\"Espada Longa\", \"Arma\", 15, 5)\n",
        "exibir_item(*item)  # Desempacota a tupla\n",
        "\n",
        "atributos = {\"nome\": \"Escudo Sagrado\", \"tipo\": \"Defesa\", \"dano\": 0, \"defesa\": 20}\n",
        "exibir_item(**atributos)  # Desempacota o dicionário\n"
      ],
      "metadata": {
        "id": "BX3Bk8oRpF8y"
      },
      "execution_count": null,
      "outputs": []
    },
    {
      "cell_type": "markdown",
      "source": [
        "**Funções Lambda**\n",
        "\n",
        "Funções anônimas (lambda) são úteis para operações rápidas ou dentro de outras funções."
      ],
      "metadata": {
        "id": "7rN1cAuw_6nD"
      }
    },
    {
      "cell_type": "code",
      "source": [
        "dobrar = lambda x: x * 2"
      ],
      "metadata": {
        "id": "Iq1I3t3zoRN1"
      },
      "execution_count": null,
      "outputs": []
    },
    {
      "cell_type": "code",
      "source": [
        "jogadores = [(\"Ana\", 50), (\"Carlos\", 70), (\"João\", 60)]\n",
        "\n",
        "# Ordenar por pontuação usando lambda\n",
        "jogadores_ordenados = sorted(jogadores, key=lambda jogador: jogador[1])\n",
        "print(\"Jogadores ordenados:\", jogadores_ordenados)\n"
      ],
      "metadata": {
        "colab": {
          "base_uri": "https://localhost:8080/"
        },
        "id": "_VhI35akAA_V",
        "outputId": "292d6be9-2abb-4c12-fbd2-681a5fb75b86"
      },
      "execution_count": null,
      "outputs": [
        {
          "output_type": "stream",
          "name": "stdout",
          "text": [
            "Jogadores ordenados: [('Ana', 50), ('João', 60), ('Carlos', 70)]\n"
          ]
        }
      ]
    },
    {
      "cell_type": "code",
      "source": [
        "pessoas = [\n",
        "    {'nome': 'Alice', 'idade': 30},\n",
        "    {'nome': 'Bob', 'idade': 25},\n",
        "    {'nome': 'Charlie', 'idade': 35}\n",
        "]\n",
        "\n",
        "# Ordenando a lista por idade usando lambda\n",
        "pessoas_ordenadas = sorted(pessoas, key=lambda p: p['idade'])\n",
        "print(pessoas_ordenadas)"
      ],
      "metadata": {
        "colab": {
          "base_uri": "https://localhost:8080/"
        },
        "id": "rHfNv6qSoN3G",
        "outputId": "71200e57-b69e-421e-89f8-39c208ab34c7"
      },
      "execution_count": null,
      "outputs": [
        {
          "output_type": "stream",
          "name": "stdout",
          "text": [
            "[{'nome': 'Bob', 'idade': 25}, {'nome': 'Alice', 'idade': 30}, {'nome': 'Charlie', 'idade': 35}]\n"
          ]
        }
      ]
    },
    {
      "cell_type": "markdown",
      "source": [
        "Documentando Funções"
      ],
      "metadata": {
        "id": "gqqYRDyhANJO"
      }
    },
    {
      "cell_type": "code",
      "source": [
        "def calcular_xp(nivel):\n",
        "    \"\"\"\n",
        "    Calcula a quantidade de XP necessária para passar ao próximo nível.\n",
        "\n",
        "    Parâmetros:\n",
        "    nivel (int): O nível atual do jogador.\n",
        "\n",
        "    Retorna:\n",
        "    int: XP necessário.\n",
        "    \"\"\"\n",
        "    return nivel * 100\n",
        "\n",
        "help(calcular_xp)\n"
      ],
      "metadata": {
        "id": "kYbvp82QAPUP"
      },
      "execution_count": null,
      "outputs": []
    },
    {
      "cell_type": "markdown",
      "source": [
        "# Entrada e Saída de Dados"
      ],
      "metadata": {
        "id": "oH6xa1JLvw00"
      }
    },
    {
      "cell_type": "markdown",
      "source": [
        "O comando input() lê entradas do usuário como strings."
      ],
      "metadata": {
        "id": "fv4_U9aNvzwr"
      }
    },
    {
      "cell_type": "code",
      "source": [
        "nome = input(\"Qual o seu nome? \")\n",
        "print(f\"Olá, {nome}! Bem-vindo ao mundo Python.\")"
      ],
      "metadata": {
        "id": "UBobSZx-xmsM"
      },
      "execution_count": null,
      "outputs": []
    },
    {
      "cell_type": "markdown",
      "source": [
        "Já vimos print(), mas ele pode ser combinado com formatação:"
      ],
      "metadata": {
        "id": "M0U5ZVJXxqZz"
      }
    },
    {
      "cell_type": "code",
      "source": [
        "idade = 25\n",
        "print(f\"Você tem {idade} anos.\")  # f-strings\n",
        "print(\"Você tem {} anos.\".format(idade))  # Método format"
      ],
      "metadata": {
        "id": "Cn_i4lSXxtJC"
      },
      "execution_count": null,
      "outputs": []
    },
    {
      "cell_type": "markdown",
      "source": [
        "### Leitura e Escrita em arquivos"
      ],
      "metadata": {
        "id": "BeLA7SqPxvbo"
      }
    },
    {
      "cell_type": "markdown",
      "source": [
        "Quando queremos criar um arquivo, usamos o modo \"w\" (write). Se o arquivo já existir, ele será sobrescrito."
      ],
      "metadata": {
        "id": "XhHJ5y9x2U1v"
      }
    },
    {
      "cell_type": "code",
      "source": [
        "# Criar ou sobrescrever um arquivo\n",
        "with open(\"exemplo.txt\", \"w\") as arquivo:  # 'w' de write\n",
        "    arquivo.write(\"Olá, mundo!\\n\")\n",
        "    arquivo.write(\"Estamos aprendendo Python.\")"
      ],
      "metadata": {
        "id": "DCNFzsj-9WUt"
      },
      "execution_count": null,
      "outputs": []
    },
    {
      "cell_type": "code",
      "source": [
        "# Ler o conteúdo do arquivo\n",
        "with open(\"exemplo.txt\", \"r\") as arquivo:  # 'r' de read\n",
        "    conteudo = arquivo.read()  # Lê o arquivo inteiro\n",
        "    print(conteudo)"
      ],
      "metadata": {
        "colab": {
          "base_uri": "https://localhost:8080/"
        },
        "id": "dV2uwrUo2ifs",
        "outputId": "db8fd1ab-9abd-4e06-b3ae-c182d5e9065d"
      },
      "execution_count": null,
      "outputs": [
        {
          "output_type": "stream",
          "name": "stdout",
          "text": [
            "Olá, mundo!\n",
            "Estamos aprendendo Python.\n"
          ]
        }
      ]
    },
    {
      "cell_type": "code",
      "source": [
        "# Adicionar mais texto ao arquivo\n",
        "with open(\"exemplo.txt\", \"a\") as arquivo:  # 'a' de append\n",
        "    arquivo.write(\"\\nAdicionando uma nova linha.\")"
      ],
      "metadata": {
        "id": "gNFshS6Q2ru_"
      },
      "execution_count": null,
      "outputs": []
    },
    {
      "cell_type": "markdown",
      "source": [
        "O método readlines() lê todas as linhas de uma vez, enquanto um loop for lê linha por linha."
      ],
      "metadata": {
        "id": "B6Rn1sPq2v_a"
      }
    },
    {
      "cell_type": "code",
      "source": [
        "# Ler o arquivo linha por linha\n",
        "with open(\"exemplo.txt\", \"r\") as arquivo:\n",
        "    for linha in arquivo:\n",
        "        print(linha.strip())  # Remove espaços e quebras de linha extras"
      ],
      "metadata": {
        "colab": {
          "base_uri": "https://localhost:8080/"
        },
        "id": "bhepTsAf2wjf",
        "outputId": "063c8d5f-fab4-4159-8c52-9043d7a7a57c"
      },
      "execution_count": null,
      "outputs": [
        {
          "output_type": "stream",
          "name": "stdout",
          "text": [
            "Novo conteúdo aqui!\n"
          ]
        }
      ]
    },
    {
      "cell_type": "markdown",
      "source": [
        "Se quisermos substituir todo o conteúdo, basta usar o modo \"w\" novamente."
      ],
      "metadata": {
        "id": "wVob79yi3fYs"
      }
    },
    {
      "cell_type": "code",
      "source": [
        "# Sobrescrevendo o conteúdo\n",
        "with open(\"exemplo.txt\", \"w\") as arquivo:\n",
        "    arquivo.write(\"Novo conteúdo aqui!\")"
      ],
      "metadata": {
        "id": "kO2z0OR73dJT"
      },
      "execution_count": null,
      "outputs": []
    },
    {
      "cell_type": "markdown",
      "source": [
        "### Módulos e Pacotes"
      ],
      "metadata": {
        "id": "RH6RUYYXwvJ0"
      }
    },
    {
      "cell_type": "code",
      "source": [
        "import math\n",
        "print(math.sqrt(16))  # Raiz quadrada"
      ],
      "metadata": {
        "id": "EUO9aUG6wy6d"
      },
      "execution_count": null,
      "outputs": []
    },
    {
      "cell_type": "code",
      "source": [
        "from random import randint\n",
        "print(randint(1, 10))  # Número aleatório entre 1 e 10"
      ],
      "metadata": {
        "id": "fYkjmimpw0hm"
      },
      "execution_count": null,
      "outputs": []
    },
    {
      "cell_type": "markdown",
      "source": [
        "Para criar um módulo próprio basta criar um arquivo py e importa-lo"
      ],
      "metadata": {
        "id": "6KlnI5vOxB7a"
      }
    },
    {
      "cell_type": "code",
      "source": [
        "# Imagine que esse é um arquivo criado meu_modulo.py\n",
        "\n",
        "def saudacao(nome):\n",
        "    return f\"Olá, {nome}!\""
      ],
      "metadata": {
        "id": "cyQCuBaIxNwD"
      },
      "execution_count": null,
      "outputs": []
    },
    {
      "cell_type": "code",
      "source": [
        "from meu_modulo import saudacao\n",
        "print(saudacao(\"Mundo\"))"
      ],
      "metadata": {
        "id": "VHbXyndWxXgf"
      },
      "execution_count": null,
      "outputs": []
    },
    {
      "cell_type": "markdown",
      "source": [
        "### Tratamento de Exceções"
      ],
      "metadata": {
        "id": "5u1JvixvxfaB"
      }
    },
    {
      "cell_type": "markdown",
      "source": [
        "Python oferece maneiras de lidar com erros sem interromper o programa."
      ],
      "metadata": {
        "id": "MDrZNaYYxsnc"
      }
    },
    {
      "cell_type": "code",
      "source": [
        "try:\n",
        "    x = int(input(\"Digite um número: \"))\n",
        "    print(10 / x)\n",
        "except ValueError:\n",
        "    print(\"Por favor, insira um número válido.\")\n",
        "except ZeroDivisionError:\n",
        "    print(\"Não é possível dividir por zero!\")\n",
        "finally:\n",
        "    print(\"Execução finalizada.\")\n"
      ],
      "metadata": {
        "colab": {
          "base_uri": "https://localhost:8080/"
        },
        "id": "b9lF6fuGxt5c",
        "outputId": "ac791e2a-0fe9-45ef-be66-3f10fdc96d0b"
      },
      "execution_count": null,
      "outputs": [
        {
          "output_type": "stream",
          "name": "stdout",
          "text": [
            "Digite um número: 0\n",
            "Não é possível dividir por zero!\n",
            "Execução finalizada.\n"
          ]
        }
      ]
    }
  ]
}